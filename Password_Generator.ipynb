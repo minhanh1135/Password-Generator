{
  "nbformat": 4,
  "nbformat_minor": 0,
  "metadata": {
    "colab": {
      "provenance": [],
      "toc_visible": true
    },
    "kernelspec": {
      "name": "python3",
      "display_name": "Python 3"
    },
    "language_info": {
      "name": "python"
    }
  },
  "cells": [
    {
      "cell_type": "code",
      "execution_count": null,
      "metadata": {
        "id": "SfVODdpb7JyQ"
      },
      "outputs": [],
      "source": []
    },
    {
      "cell_type": "markdown",
      "source": [
        "# Draft"
      ],
      "metadata": {
        "id": "zwBU3GPH7rKb"
      }
    },
    {
      "cell_type": "code",
      "source": [
        "import random"
      ],
      "metadata": {
        "id": "YMnA3i33At5L"
      },
      "execution_count": null,
      "outputs": []
    },
    {
      "cell_type": "code",
      "source": [
        "def valid_password(pwd):\n",
        "  wlen = False\n",
        "  if len(pwd)>= 10:\n",
        "    wlen = True\n",
        "  wupper_isupper = False\n",
        "  wnumeric = False\n",
        "  wspecial_number = False\n",
        "  special_number = [\"!\",\"?\",\"@\",\"#\"]\n",
        "  wcontinue = False\n",
        "\n",
        "  for w in pwd:\n",
        "    if w.isupper() == True:\n",
        "      wupper_isupper = True\n",
        "    if w in special_number:\n",
        "      wspecial_number = True\n",
        "    if w.isnumeric() == True:\n",
        "      wnumeric = True\n",
        "  print(wlen, wspecial_number, wnumeric, wupper_isupper)\n",
        "\n",
        "  if wlen == False:\n",
        "    wcontinue = True\n",
        "    print(\"Your password doesn't contain 10 words\")\n",
        "  if wspecial_number == False:\n",
        "    wcontinue = True\n",
        "    print(\"Your password doesn't contain a special number\")\n",
        "    # print('in special', wcontinue)\n",
        "  if wnumeric == False:\n",
        "    wcontinue = True\n",
        "    print(\"Your password doesn't contatin a number\")\n",
        "  if wupper_isupper == False:\n",
        "    wcontinue = True\n",
        "    print(\"Your password doesn't contain an upper case letter\")\n",
        "\n",
        "  print(wcontinue)\n",
        "  return pwd, wcontinue\n",
        "\n",
        "pwd, wcontinue = valid_password(pwd = 'dsjgdhsHG@#264')\n",
        "print(pwd, wcontinue)"
      ],
      "metadata": {
        "colab": {
          "base_uri": "https://localhost:8080/"
        },
        "id": "lIM-jI0o7sGh",
        "outputId": "3f903c3a-b598-4c04-e1a4-04773f47909d"
      },
      "execution_count": null,
      "outputs": [
        {
          "output_type": "stream",
          "name": "stdout",
          "text": [
            "True True True True\n",
            "False\n",
            "dsjgdhsHG@#264 False\n"
          ]
        }
      ]
    },
    {
      "cell_type": "code",
      "source": [
        "def replaceWithNumber(pwd, lenpwd):\n",
        "  lenpwd =\n",
        "\n"
      ],
      "metadata": {
        "id": "3mvdyh1r7tKJ"
      },
      "execution_count": null,
      "outputs": []
    },
    {
      "cell_type": "code",
      "source": [],
      "metadata": {
        "id": "flz6b6rS7tZa"
      },
      "execution_count": null,
      "outputs": []
    },
    {
      "cell_type": "code",
      "source": [],
      "metadata": {
        "id": "rhyBB5L37tcd"
      },
      "execution_count": null,
      "outputs": []
    },
    {
      "cell_type": "code",
      "source": [
        "alphabet = \"abcdefghijklmnopqrstuvwxyz\"\n",
        "next_letter_index = random.randrange(len(alphabet))\n",
        "print(next_letter_index, alphabet[next_letter_index])"
      ],
      "metadata": {
        "colab": {
          "base_uri": "https://localhost:8080/"
        },
        "id": "wkP0G3XG7tiR",
        "outputId": "684e6dde-53c4-4ac0-9ca0-393147514a5e"
      },
      "execution_count": null,
      "outputs": [
        {
          "output_type": "stream",
          "name": "stdout",
          "text": [
            "9 j\n"
          ]
        }
      ]
    },
    {
      "cell_type": "markdown",
      "source": [
        "# Password Generator"
      ],
      "metadata": {
        "id": "rUKfWuoV7t1a"
      }
    },
    {
      "cell_type": "code",
      "source": [],
      "metadata": {
        "id": "LpSYEGTQBqcQ"
      },
      "execution_count": null,
      "outputs": []
    },
    {
      "cell_type": "code",
      "source": [
        "import random\n",
        "def valid_password(pwd, show_warning = False):\n",
        "  wlen = False\n",
        "  if len(pwd)>= 10:\n",
        "    wlen = True\n",
        "  wupper_isupper = False\n",
        "  wnumeric = False\n",
        "  wspecial_number = False\n",
        "  special_number = [\"!\",\"?\",\"@\",\"#\"]\n",
        "  wcontinue = False\n",
        "\n",
        "  for w in pwd:\n",
        "    if w.isupper() == True:\n",
        "      wupper_isupper = True\n",
        "    if w in special_number:\n",
        "      wspecial_number = True\n",
        "    if w.isnumeric() == True:\n",
        "      wnumeric = True\n",
        "\n",
        "  if wlen == False:\n",
        "    wcontinue = True\n",
        "    if show_warning == True:\n",
        "      print(\"Your password doesn't contain 10 words\")\n",
        "  if wspecial_number == False:\n",
        "    wcontinue = True\n",
        "    if show_warning == True:\n",
        "      print(\"Your password doesn't contain a special number\")\n",
        "    # print('in special', wcontinue)\n",
        "  if wnumeric == False:\n",
        "    wcontinue = True\n",
        "    if show_warning == True:\n",
        "      print(\"Your password doesn't contatin a number\")\n",
        "  if wupper_isupper == False:\n",
        "    wcontinue = True\n",
        "    if show_warning == True:\n",
        "      print(\"Your password doesn't contain an upper case letter\")\n",
        "\n",
        "  return pwd, wcontinue\n",
        "\n",
        "def replaceWithNumber(pwd,length_pwd ):\n",
        "  \"\"\"\n",
        "  input : pwd(string)\n",
        "  output: pwd(string)\n",
        "  \"\"\"\n",
        "  random_index = random.randrange(0,length_pwd)\n",
        "  random_number = random.randrange(0,9)\n",
        "  return pwd[:(random_index)] + str(random_number)+ pwd[(random_index+1):]\n",
        "\n",
        "def replaceWithSpecialNumber(pwd,length_pwd ):\n",
        "  \"\"\"\n",
        "  input : pwd(string)\n",
        "  output: pwd(string)\n",
        "  \"\"\"\n",
        "  special_number = ['!','@','#','$']\n",
        "  random_index = random.randrange(0,length_pwd)\n",
        "  random_index_number = random.randrange(0,4)\n",
        "  return pwd[:(random_index)] + special_number[random_index_number] + pwd[(random_index+1):]\n",
        "\n",
        "def replaceWithUpper(pwd,length_pwd):\n",
        "  \"\"\"\n",
        "  input : pwd(string)\n",
        "  output: pwd(string)\n",
        "  \"\"\"\n",
        "  random_index = random.randrange(0, length_pwd)\n",
        "  # print('randon_index ', random_index)\n",
        "  # print('upper ', pwd[random_index].upper())\n",
        "  return pwd[:(random_index)] + pwd[random_index].upper() + pwd[(random_index+1):]"
      ],
      "metadata": {
        "id": "j__Mnw--BqmN"
      },
      "execution_count": null,
      "outputs": []
    },
    {
      "cell_type": "code",
      "source": [
        "import random\n",
        "\n",
        "def password(pword_user):\n",
        "  # check\n",
        "  pwd, wcontinue = valid_password(pwd = pword_user, show_warning = True)\n",
        "\n",
        "  #\n",
        "  if wcontinue == False:\n",
        "    print('yes yes yes ')\n",
        "    return pwd\n",
        "\n",
        "  elif wcontinue == True:\n",
        "    # create new pwd\n",
        "    password2 = \"\"\n",
        "    pwd2 , wcontinue2 = valid_password(pwd = password2)\n",
        "\n",
        "    while wcontinue2 == True:\n",
        "      pwlength = random.randrange(10, 21)\n",
        "      alphabet = \"abcdefghijklmnopqrstuvwxyz\"\n",
        "\n",
        "      for j in range(pwlength):\n",
        "          next_letter_index = random.randrange(len(alphabet))\n",
        "          password2 = password2 + alphabet[next_letter_index]\n",
        "      # password = 'hsbdjaincbgtah'\n",
        "\n",
        "      # add number\n",
        "      password2 = replaceWithNumber(password2, pwlength)               # password = 'hsbdj4incbgtah'\n",
        "      password2 = replaceWithSpecialNumber(password2, pwlength)        # password = 'hsbdj4i$cbgtah'\n",
        "      password2 = replaceWithUpper(password2, pwlength)                # password = 'hsbdj4i$cbgKah'\n",
        "\n",
        "\n",
        "      password2 , wcontinue2 = valid_password(pwd = password2)\n",
        "    print('New pwd ', password2)\n",
        "    return password2\n",
        "\n"
      ],
      "metadata": {
        "id": "kXac4vPw7v67"
      },
      "execution_count": null,
      "outputs": []
    },
    {
      "cell_type": "code",
      "source": [
        "pwd = 'minhanh1135@'\n",
        "password_ = password(pword_user = pwd)\n",
        "print(password_)"
      ],
      "metadata": {
        "id": "NtKDdu0kHrZC",
        "colab": {
          "base_uri": "https://localhost:8080/"
        },
        "outputId": "8de795ec-9a7b-448f-dc99-cefb1ccc4262"
      },
      "execution_count": null,
      "outputs": [
        {
          "output_type": "stream",
          "name": "stdout",
          "text": [
            "Your password doesn't contain an upper case letter\n",
            "New pwd  cdr6swecfij!Kvvlf\n",
            "cdr6swecfij!Kvvlf\n"
          ]
        }
      ]
    },
    {
      "cell_type": "code",
      "source": [],
      "metadata": {
        "id": "t4ykn9pnJgfA"
      },
      "execution_count": null,
      "outputs": []
    },
    {
      "cell_type": "code",
      "source": [
        "import random\n",
        "def replaceWithNumber(pwd,length_pwd ):\n",
        "  \"\"\"\n",
        "  input : pwd(string)\n",
        "  output: pwd(string)\n",
        "  \"\"\"\n",
        "  random_index = random.randrange(0,length_pwd)\n",
        "  random_number = random.randrange(0,9)\n",
        "  return pwd[:(random_index)] + str(random_number)+ pwd[(random_index+1):]\n",
        "\n",
        "pwd = 'xQeswimylnabdtdsjr'\n",
        "length_pwd = len(pwd)\n",
        "new_pwd = replaceWithNumber(pwd = pwd, length_pwd= length_pwd)\n",
        "print(new_pwd)"
      ],
      "metadata": {
        "id": "viqwuP-H9BGk",
        "colab": {
          "base_uri": "https://localhost:8080/"
        },
        "outputId": "e5476385-cc27-4317-a610-bd668afaa77c"
      },
      "execution_count": null,
      "outputs": [
        {
          "output_type": "stream",
          "name": "stdout",
          "text": [
            "xQeswimylnabdt4sjr\n"
          ]
        }
      ]
    },
    {
      "cell_type": "code",
      "source": [
        "import random\n",
        "def replaceWithSpecial_Number(pwd,length_pwd ):\n",
        "  \"\"\"\n",
        "  input : pwd(string)\n",
        "  output: pwd(string)\n",
        "  \"\"\"\n",
        "  special_number = ['!','@','#','$']\n",
        "  random_index = random.randrange(0,length_pwd)\n",
        "  random_index_number = random.randrange(0,4)\n",
        "  return pwd[:(random_index)] + special_number[random_index_number] + pwd[(random_index+1):]\n",
        "\n",
        "pwd = 'xQeswimylnabdtdsjr'\n",
        "length_pwd = len(pwd)\n",
        "new_pwd = replaceWithSpecial_Number(pwd = pwd, length_pwd= length_pwd)\n",
        "print(new_pwd)"
      ],
      "metadata": {
        "id": "6NfVd58S9BJn",
        "colab": {
          "base_uri": "https://localhost:8080/"
        },
        "outputId": "3bf4eab0-aafa-4eac-b903-1632514b0119"
      },
      "execution_count": null,
      "outputs": [
        {
          "output_type": "stream",
          "name": "stdout",
          "text": [
            "x$eswimylnabdtdsjr\n"
          ]
        }
      ]
    },
    {
      "cell_type": "code",
      "source": [
        "import random\n",
        "def replaceWithUpper(pwd,length_pwd):\n",
        "  \"\"\"\n",
        "  input : pwd(string)\n",
        "  output: pwd(string)\n",
        "  \"\"\"\n",
        "  random_index = random.randrange(0, length_pwd)\n",
        "  print('randon_index ', random_index)\n",
        "  print('upper ', pwd[random_index].upper())\n",
        "  return pwd[:(random_index)] + pwd[random_index].upper() + pwd[(random_index+1):]\n",
        "\n",
        "new_pwd = replaceWithUpper(pwd,length_pwd)\n",
        "print(new_pwd)"
      ],
      "metadata": {
        "id": "s4GIDWyO9Bat",
        "colab": {
          "base_uri": "https://localhost:8080/"
        },
        "outputId": "ef7bbb3c-2b51-49da-fe8c-6414597317ac"
      },
      "execution_count": null,
      "outputs": [
        {
          "output_type": "stream",
          "name": "stdout",
          "text": [
            "randon_index  9\n",
            "upper  N\n",
            "xQeswimylNabdtdsjr\n"
          ]
        }
      ]
    },
    {
      "cell_type": "code",
      "source": [],
      "metadata": {
        "id": "CszYiJqeNpCg"
      },
      "execution_count": null,
      "outputs": []
    },
    {
      "cell_type": "code",
      "source": [],
      "metadata": {
        "id": "oNvhL267NpFd"
      },
      "execution_count": null,
      "outputs": []
    },
    {
      "cell_type": "markdown",
      "source": [
        "# 2"
      ],
      "metadata": {
        "id": "B87zuAq3N2_n"
      }
    },
    {
      "cell_type": "code",
      "source": [
        "# 1. password ( chính )\n",
        "# input : mật khẩu ngta\n",
        "# output : mật khẩu ngta ( hạn chế thêm bớt ) + kí tự cần thiết\n",
        "\n",
        "# - hàm check ( valid_pasword ) => lưu lại lỗi sai\n",
        "# - - nếu check sai =>\n",
        "# cầm lại mk cũ\n",
        "# - - sửa lại lỗi sai :\n",
        "# + TH1: đủ số lượng kí tự\n",
        "# \t+ thiếu upper => random 1 kí tự bất kì => upper\n",
        "# \t+ thiếu số => random 1 kí tự bất kì => thay bằng 1 số random\n",
        "# \t+ thiếu kí tự đặc biệt => random 1 kí tự bất kì => thay bằng 1 kí tự đặc biệt\n",
        "\n",
        "# + Th2 : số lượng kí tự thừa : => cắt đoạn thừa ở phía sau\n",
        "# => áp dụng TH1: đủ số lượng kí tự\n",
        "\n",
        "# + TH3 : thiếu số lượng kí tự : thêm random kí tự vào cuối cho đủ\n",
        "# => áp dụng TH1: đủ số lượng kí tự\n",
        "\n",
        "# def th1()\n",
        "# + TH1: đủ số lượng kí tự\n",
        "# \t+ thiếu upper => random 1 kí tự bất kì => upper\n",
        "# \t+ thiếu số => random 1 kí tự bất kì => thay bằng 1 số random\n",
        "# \t+ thiếu kí tự đặc biệt => random 1 kí tự bất kì => thay bằng 1 kí tự đặc biệt"
      ],
      "metadata": {
        "id": "ACVbNyMyNpIj"
      },
      "execution_count": null,
      "outputs": []
    },
    {
      "cell_type": "code",
      "source": [
        "import random\n",
        "\n",
        "def pwd_generator(user_pwd)\n",
        " pwd, wcontinue, status = valid_password(pwd = user_pwd, show_warning = True)\n",
        " if wcontinue == False:\n",
        "  return user_pwd\n",
        " else:\n",
        "  if len(user_pwd) >= 10 and len(user_pwd)<20:\n",
        "    user_pwd = th1(user_pwd, status)\n",
        "  elif len(user_pwd)>20:\n",
        "    user_pwd = user_pwd[:20]\n",
        "    user_pwd = th1(user_pwd, status)\n",
        "  elif len(user_pwd)<10:\n",
        "    addon_letter = 10 - len(word)\n",
        "    user_pwd = user_pwd +user_pwd[:addon_letter]\n",
        "    user_pwd = th1(user_pwd, status)\n",
        "\n",
        "  return user_pwd\n"
      ],
      "metadata": {
        "id": "BKwQCfCgNpM8"
      },
      "execution_count": null,
      "outputs": []
    },
    {
      "cell_type": "code",
      "source": [
        "word = 'ahdsjh'\n",
        "addon_letter = 10 - len(word)\n",
        "word = word + word[:addon_letter]\n",
        "print(len(word), word)"
      ],
      "metadata": {
        "id": "KL-Tonu3NpRc",
        "colab": {
          "base_uri": "https://localhost:8080/"
        },
        "outputId": "bd648ffd-af9c-4d87-8e8c-93ca9b068e2d"
      },
      "execution_count": null,
      "outputs": [
        {
          "output_type": "stream",
          "name": "stdout",
          "text": [
            "10 ahdsjhahds\n"
          ]
        }
      ]
    },
    {
      "cell_type": "code",
      "source": [
        "import random\n",
        "def valid_password(pwd, show_warning = False):\n",
        "  wlen = False\n",
        "  if len(pwd)>= 10:\n",
        "    wlen = True\n",
        "  wupper_isupper = False\n",
        "  wnumeric = False\n",
        "  wspecial_number = False\n",
        "  special_number = [\"!\",\"?\",\"@\",\"#\"]\n",
        "  wcontinue = False\n",
        "\n",
        "  for w in pwd:\n",
        "    if w.isupper() == True:\n",
        "      wupper_isupper = True\n",
        "    if w in special_number:\n",
        "      wspecial_number = True\n",
        "    if w.isnumeric() == True:\n",
        "      wnumeric = True\n",
        "\n",
        "  if wlen == False:\n",
        "    wcontinue = True\n",
        "    if show_warning == True:\n",
        "      print(\"Your password doesn't contain 10 words\")\n",
        "  if wspecial_number == False:\n",
        "    wcontinue = True\n",
        "    if show_warning == True:\n",
        "      print(\"Your password doesn't contain a special number\")\n",
        "    # print('in special', wcontinue)\n",
        "  if wnumeric == False:\n",
        "    wcontinue = True\n",
        "    if show_warning == True:\n",
        "      print(\"Your password doesn't contatin a number\")\n",
        "  if wupper_isupper == False:\n",
        "    wcontinue = True\n",
        "    if show_warning == True:\n",
        "      print(\"Your password doesn't contain an upper case letter\")\n",
        "\n",
        "  status = {\n",
        "      'wlen': wlen,  'wspecial_number': wspecial_number, 'wnumeric': wnumeric, 'wupper_isupper': wupper_isupper\n",
        "  }\n",
        "  return pwd, wcontinue, status\n",
        "\n",
        "\n",
        "# def th1()\n",
        "# + TH1: đủ số lượng kí tự\n",
        "# \t+ thiếu upper => random 1 kí tự bất kì => upper\n",
        "# \t+ thiếu số => random 1 kí tự bất kì => thay bằng 1 số random\n",
        "# \t+ thiếu kí tự đặc biệt => random 1 kí tự bất kì => thay bằng 1 kí tự đặc biệt\n",
        "def th1(pwd, status):\n",
        "  # thieu upper\n",
        "  if status['wupper_isupper'] == False:\n",
        "    random_index = random.randrange(0, len(pwd))\n",
        "    pwd = pwd[:random_index] +  pwd[random_index].upper() + pwd[random_index+1:]\n",
        "  # thieu ki tu dac biet\n",
        "\n",
        "\n",
        "  # thieu so\n",
        "\n",
        "\n",
        "  return pwd\n",
        ""
      ],
      "metadata": {
        "id": "J14ao3dOTD78"
      },
      "execution_count": null,
      "outputs": []
    },
    {
      "cell_type": "code",
      "source": [
        "word = 'ahdsjh'\n",
        "random_index = random.randrange(0, len(word))\n",
        "word[:random_index] +  word[random_index].upper() + word[random_index+1:]"
      ],
      "metadata": {
        "colab": {
          "base_uri": "https://localhost:8080/",
          "height": 36
        },
        "id": "U6OaKi8SWUCp",
        "outputId": "b45db4c4-9f12-4e8c-8d7f-c4b454c58aff"
      },
      "execution_count": 64,
      "outputs": [
        {
          "output_type": "execute_result",
          "data": {
            "text/plain": [
              "'aHdsjh'"
            ],
            "application/vnd.google.colaboratory.intrinsic+json": {
              "type": "string"
            }
          },
          "metadata": {},
          "execution_count": 64
        }
      ]
    },
    {
      "cell_type": "code",
      "source": [],
      "metadata": {
        "id": "gRsmvz10WZ0b"
      },
      "execution_count": null,
      "outputs": []
    }
  ]
}